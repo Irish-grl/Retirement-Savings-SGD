{
 "cells": [
  {
   "cell_type": "markdown",
   "id": "5dabbfc5",
   "metadata": {},
   "source": [
    "# Introduction to scikit-learn"
   ]
  },
  {
   "cell_type": "code",
   "execution_count": 1,
   "id": "ce864c62",
   "metadata": {},
   "outputs": [],
   "source": [
    "# 0. End to end scikit learn workflow\n",
    "# 1. Getting the data ready\n",
    "# 2. Choose the right algorithm/estimator\n",
    "# 3. Fit the model/algorithm and use it to make predictions on data\n",
    "# 4. Evaluating a model\n",
    "# 5. Improve a model\n",
    "# 6. Save and load a trained model\n",
    "# 7. Putting it all together"
   ]
  },
  {
   "cell_type": "markdown",
   "id": "6436156e",
   "metadata": {},
   "source": [
    "# 0. An End to End scikit learn workflow"
   ]
  },
  {
   "cell_type": "markdown",
   "id": "0d8ff563",
   "metadata": {},
   "source": [
    "# 1. Get the data ready"
   ]
  },
  {
   "cell_type": "code",
   "execution_count": 1,
   "id": "bc899a90",
   "metadata": {},
   "outputs": [],
   "source": [
    "#import Pandas, NumPy, and Matplotlib libraries\n",
    "import pandas as pd\n",
    "import numpy as np\n",
    "import matplotlib.pyplot as plt\n",
    "import seaborn as sbn\n",
    "\n",
    "#Import data file\n",
    "df = pd.read_csv(r'C:\\Users\\jesst\\OneDrive\\Desktop\\Capstone\\2022 pers QBE.csv')"
   ]
  },
  {
   "cell_type": "code",
   "execution_count": 2,
   "id": "2c211a46",
   "metadata": {},
   "outputs": [
    {
     "name": "stdout",
     "output_type": "stream",
     "text": [
      "<class 'pandas.core.frame.DataFrame'>\n",
      "RangeIndex: 2221 entries, 0 to 2220\n",
      "Data columns (total 3 columns):\n",
      " #   Column                     Non-Null Count  Dtype \n",
      "---  ------                     --------------  ----- \n",
      " 0   Age                        2221 non-null   int64 \n",
      " 1   Calc YR Salary             2221 non-null   object\n",
      " 2   Yearly PERS Contributions  2221 non-null   object\n",
      "dtypes: int64(1), object(2)\n",
      "memory usage: 52.2+ KB\n"
     ]
    }
   ],
   "source": [
    "#Check the data\n",
    "df.info()"
   ]
  },
  {
   "cell_type": "code",
   "execution_count": 3,
   "id": "24b2ac09",
   "metadata": {},
   "outputs": [
    {
     "data": {
      "text/plain": [
       "Age                          0\n",
       "Calc YR Salary               0\n",
       "Yearly PERS Contributions    0\n",
       "dtype: int64"
      ]
     },
     "execution_count": 3,
     "metadata": {},
     "output_type": "execute_result"
    }
   ],
   "source": [
    "#Check data to see how many tuples in 'age' have a null value\n",
    "df.isna().sum()"
   ]
  },
  {
   "cell_type": "code",
   "execution_count": 4,
   "id": "5a8edbae",
   "metadata": {},
   "outputs": [
    {
     "data": {
      "text/html": [
       "<div>\n",
       "<style scoped>\n",
       "    .dataframe tbody tr th:only-of-type {\n",
       "        vertical-align: middle;\n",
       "    }\n",
       "\n",
       "    .dataframe tbody tr th {\n",
       "        vertical-align: top;\n",
       "    }\n",
       "\n",
       "    .dataframe thead th {\n",
       "        text-align: right;\n",
       "    }\n",
       "</style>\n",
       "<table border=\"1\" class=\"dataframe\">\n",
       "  <thead>\n",
       "    <tr style=\"text-align: right;\">\n",
       "      <th></th>\n",
       "      <th>Age</th>\n",
       "      <th>Calc YR Salary</th>\n",
       "      <th>Yearly PERS Contributions</th>\n",
       "    </tr>\n",
       "  </thead>\n",
       "  <tbody>\n",
       "    <tr>\n",
       "      <th>0</th>\n",
       "      <td>39.0</td>\n",
       "      <td>40135.44</td>\n",
       "      <td>10069.83</td>\n",
       "    </tr>\n",
       "    <tr>\n",
       "      <th>1</th>\n",
       "      <td>59.0</td>\n",
       "      <td>41316.11</td>\n",
       "      <td>10310.02</td>\n",
       "    </tr>\n",
       "    <tr>\n",
       "      <th>2</th>\n",
       "      <td>51.0</td>\n",
       "      <td>41579.60</td>\n",
       "      <td>10453.15</td>\n",
       "    </tr>\n",
       "    <tr>\n",
       "      <th>3</th>\n",
       "      <td>62.0</td>\n",
       "      <td>41786.44</td>\n",
       "      <td>10591.45</td>\n",
       "    </tr>\n",
       "    <tr>\n",
       "      <th>4</th>\n",
       "      <td>18.0</td>\n",
       "      <td>41923.83</td>\n",
       "      <td>10345.45</td>\n",
       "    </tr>\n",
       "    <tr>\n",
       "      <th>...</th>\n",
       "      <td>...</td>\n",
       "      <td>...</td>\n",
       "      <td>...</td>\n",
       "    </tr>\n",
       "    <tr>\n",
       "      <th>2216</th>\n",
       "      <td>53.0</td>\n",
       "      <td>167056.19</td>\n",
       "      <td>44057.18</td>\n",
       "    </tr>\n",
       "    <tr>\n",
       "      <th>2217</th>\n",
       "      <td>22.0</td>\n",
       "      <td>167310.81</td>\n",
       "      <td>45016.93</td>\n",
       "    </tr>\n",
       "    <tr>\n",
       "      <th>2218</th>\n",
       "      <td>62.0</td>\n",
       "      <td>167535.37</td>\n",
       "      <td>32768.28</td>\n",
       "    </tr>\n",
       "    <tr>\n",
       "      <th>2219</th>\n",
       "      <td>50.0</td>\n",
       "      <td>168112.62</td>\n",
       "      <td>44043.02</td>\n",
       "    </tr>\n",
       "    <tr>\n",
       "      <th>2220</th>\n",
       "      <td>18.0</td>\n",
       "      <td>168909.86</td>\n",
       "      <td>46983.32</td>\n",
       "    </tr>\n",
       "  </tbody>\n",
       "</table>\n",
       "<p>2221 rows × 3 columns</p>\n",
       "</div>"
      ],
      "text/plain": [
       "       Age  Calc YR Salary  Yearly PERS Contributions\n",
       "0     39.0        40135.44                   10069.83\n",
       "1     59.0        41316.11                   10310.02\n",
       "2     51.0        41579.60                   10453.15\n",
       "3     62.0        41786.44                   10591.45\n",
       "4     18.0        41923.83                   10345.45\n",
       "...    ...             ...                        ...\n",
       "2216  53.0       167056.19                   44057.18\n",
       "2217  22.0       167310.81                   45016.93\n",
       "2218  62.0       167535.37                   32768.28\n",
       "2219  50.0       168112.62                   44043.02\n",
       "2220  18.0       168909.86                   46983.32\n",
       "\n",
       "[2221 rows x 3 columns]"
      ]
     },
     "execution_count": 4,
     "metadata": {},
     "output_type": "execute_result"
    }
   ],
   "source": [
    "#Convert data in columns from string to float\n",
    "cleaned_data = (df[['Age', 'Calc YR Salary', 'Yearly PERS Contributions']].replace( '[\\$,) ]+','',regex=True ).replace( '[(]','-',regex=True ).replace( '0.00', regex=True ).astype(float))\n",
    "cleaned_data"
   ]
  },
  {
   "cell_type": "code",
   "execution_count": 5,
   "id": "80681d6a",
   "metadata": {},
   "outputs": [],
   "source": [
    "age = cleaned_data.loc[:, 'Age'].values\n",
    "yr_salary = cleaned_data.loc[:, 'Calc YR Salary'].values\n",
    "pers_contributions = cleaned_data.loc[:, 'Yearly PERS Contributions'].values"
   ]
  },
  {
   "cell_type": "code",
   "execution_count": 23,
   "id": "9ef32482",
   "metadata": {},
   "outputs": [
    {
     "data": {
      "text/plain": [
       "<matplotlib.collections.PathCollection at 0x233891f7ca0>"
      ]
     },
     "execution_count": 23,
     "metadata": {},
     "output_type": "execute_result"
    },
    {
     "data": {
      "image/png": "[encoded data removed]",
      "text/plain": [
       "<Figure size 576x396 with 1 Axes>"
      ]
     },
     "metadata": {},
     "output_type": "display_data"
    }
   ],
   "source": [
    "plt.scatter(age, pers_contributions)"
   ]
  },
  {
   "cell_type": "code",
   "execution_count": 24,
   "id": "a4633d98",
   "metadata": {},
   "outputs": [
    {
     "data": {
      "text/plain": [
       "<AxesSubplot:>"
      ]
     },
     "execution_count": 24,
     "metadata": {},
     "output_type": "execute_result"
    },
    {
     "data": {
      "image/png": "[encoded data removed]",
      "text/plain": [
       "<Figure size 576x396 with 1 Axes>"
      ]
     },
     "metadata": {},
     "output_type": "display_data"
    }
   ],
   "source": [
    "plt.style.use('seaborn')\n",
    "cleaned_data['Age'].hist(edgecolor = 'black')"
   ]
  },
  {
   "cell_type": "code",
   "execution_count": 25,
   "id": "65ea6042",
   "metadata": {},
   "outputs": [
    {
     "data": {
      "text/plain": [
       "<AxesSubplot:>"
      ]
     },
     "execution_count": 25,
     "metadata": {},
     "output_type": "execute_result"
    },
    {
     "data": {
      "image/png": "[encoded data removed]",
      "text/plain": [
       "<Figure size 576x396 with 1 Axes>"
      ]
     },
     "metadata": {},
     "output_type": "display_data"
    }
   ],
   "source": [
    "cleaned_data['Calc YR Salary'].hist(edgecolor = 'black')"
   ]
  },
  {
   "cell_type": "code",
   "execution_count": 26,
   "id": "4c8d8c3c",
   "metadata": {},
   "outputs": [
    {
     "data": {
      "text/plain": [
       "<AxesSubplot:>"
      ]
     },
     "execution_count": 26,
     "metadata": {},
     "output_type": "execute_result"
    },
    {
     "data": {
      "image/png": "[encoded data removed]",
      "text/plain": [
       "<Figure size 576x396 with 1 Axes>"
      ]
     },
     "metadata": {},
     "output_type": "display_data"
    }
   ],
   "source": [
    "cleaned_data['Yearly PERS Contributions'].hist(edgecolor = 'black')"
   ]
  },
  {
   "cell_type": "code",
   "execution_count": 27,
   "id": "1d8ce6d9",
   "metadata": {},
   "outputs": [],
   "source": [
    "#Import the TrainTestSplit class and the OneHotEncoder class\n",
    "from sklearn.model_selection import train_test_split as tts\n",
    "\n",
    "#Split the data into X and y sets(X = features, y = labels)\n",
    "X = cleaned_data.drop(\"Yearly PERS Contributions\", axis=1)\n",
    "y = cleaned_data[\"Yearly PERS Contributions\"]\n",
    "\n",
    "#Split the data into test and training sets\n",
    "X_train, X_test, y_train, y_test = tts(X, y, test_size = 0.2)"
   ]
  },
  {
   "cell_type": "markdown",
   "id": "d34bb5db",
   "metadata": {},
   "source": [
    "# 2. Choose the right algorithm"
   ]
  },
  {
   "cell_type": "code",
   "execution_count": 28,
   "id": "bbfb54c8",
   "metadata": {},
   "outputs": [
    {
     "data": {
      "text/plain": [
       "Pipeline(steps=[('standardscaler', StandardScaler()),\n",
       "                ('sgdregressor', SGDRegressor())])"
      ]
     },
     "execution_count": 28,
     "metadata": {},
     "output_type": "execute_result"
    }
   ],
   "source": [
    "#Import the RandomForestRegressor class\n",
    "from sklearn.linear_model import SGDRegressor\n",
    "from sklearn.pipeline import make_pipeline\n",
    "from sklearn.pipeline import Pipeline\n",
    "from sklearn.preprocessing import StandardScaler\n",
    "\n",
    "regr = make_pipeline(StandardScaler(), SGDRegressor(max_iter=2000, tol=1e-3))\n",
    "Pipeline(steps=[('standardscaler', StandardScaler()),('sgdregressor', SGDRegressor())])"
   ]
  },
  {
   "cell_type": "code",
   "execution_count": 29,
   "id": "a0509f62",
   "metadata": {},
   "outputs": [
    {
     "data": {
      "text/plain": [
       "Pipeline(steps=[('standardscaler', StandardScaler()),\n",
       "                ('sgdregressor', SGDRegressor(max_iter=2000))])"
      ]
     },
     "execution_count": 29,
     "metadata": {},
     "output_type": "execute_result"
    }
   ],
   "source": [
    "#Fit the linear Regression model using the training data\n",
    "regr.fit(X_train, y_train)"
   ]
  },
  {
   "cell_type": "code",
   "execution_count": 30,
   "id": "519feaae",
   "metadata": {},
   "outputs": [
    {
     "data": {
      "text/plain": [
       "0.6375486914471373"
      ]
     },
     "execution_count": 30,
     "metadata": {},
     "output_type": "execute_result"
    }
   ],
   "source": [
    "#Test the RandomForestRegressor model using the test data and get the score\n",
    "regr.score(X_test, y_test)"
   ]
  },
  {
   "cell_type": "markdown",
   "id": "14b2abf2",
   "metadata": {},
   "source": [
    "# 3. Use trained model to make predictions"
   ]
  },
  {
   "cell_type": "code",
   "execution_count": 31,
   "id": "bcbc0ab5",
   "metadata": {},
   "outputs": [
    {
     "data": {
      "text/plain": [
       "array([30015.9882    , 22295.28167807, 27068.00142693, 24017.9397481 ,\n",
       "       23201.70131883])"
      ]
     },
     "execution_count": 31,
     "metadata": {},
     "output_type": "execute_result"
    }
   ],
   "source": [
    "#Use 'predict' on just the 'X_test' dataset to see what the model gives\n",
    "regr.predict(X_test[:5])"
   ]
  },
  {
   "cell_type": "code",
   "execution_count": 32,
   "id": "ab1faede",
   "metadata": {},
   "outputs": [
    {
     "data": {
      "text/plain": [
       "array([37841.25, 19621.02, 28646.88, 21272.42, 33669.92])"
      ]
     },
     "execution_count": 32,
     "metadata": {},
     "output_type": "execute_result"
    }
   ],
   "source": [
    "#Compare predicted amounts to the truth labels to evaluate the model\n",
    "y_preds = regr.predict(X_test)\n",
    "np.array(y_test[:5])"
   ]
  },
  {
   "cell_type": "code",
   "execution_count": 33,
   "id": "bbe889e7",
   "metadata": {},
   "outputs": [
    {
     "data": {
      "text/plain": [
       "4219.619237960839"
      ]
     },
     "execution_count": 33,
     "metadata": {},
     "output_type": "execute_result"
    }
   ],
   "source": [
    "#Import accuracy_score class *** doesn't work. Throws an error due to inability for accuracy_score to handle mixed class and continuous numbers\n",
    "#from sklearn.metrics import accuracy_score\n",
    "\n",
    "#accuracy_score(y_test, y_preds)\n",
    "#np.mean(y_preds == y_test)\n",
    "\n",
    "\n",
    "from sklearn.metrics import mean_absolute_error\n",
    "mean_absolute_error(y_preds, y_test)\n"
   ]
  }
 ],
 "metadata": {
  "kernelspec": {
   "display_name": "Python 3 (ipykernel)",
   "language": "python",
   "name": "python3"
  },
  "language_info": {
   "codemirror_mode": {
    "name": "ipython",
    "version": 3
   },
   "file_extension": ".py",
   "mimetype": "text/x-python",
   "name": "python",
   "nbconvert_exporter": "python",
   "pygments_lexer": "ipython3",
   "version": "3.9.12"
  }
 },
 "nbformat": 4,
 "nbformat_minor": 5
}
